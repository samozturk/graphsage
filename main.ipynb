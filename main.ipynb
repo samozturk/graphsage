{
 "cells": [
  {
   "cell_type": "code",
   "execution_count": 2,
   "id": "9694004c",
   "metadata": {},
   "outputs": [],
   "source": [
    "import pandas as pd\n",
    "\n",
    "\n",
    "question_df = pd.DataFrame({\n",
    "    'question_id': ['Q1', 'Q2', 'Q3', 'Q4'],\n",
    "    'question_text': ['Do you have chest pain?', 'Any shortness of breath?', 'Have you experienced dizziness?', 'Do you feel fatigued?'],\n",
    "    'diagnostic_id': ['D1', 'D1', 'D2', 'D3']  # <-- This links questions to diagnostics\n",
    "})\n"
   ]
  },
  {
   "cell_type": "code",
   "execution_count": 3,
   "id": "4ee9e794",
   "metadata": {},
   "outputs": [
    {
     "data": {
      "text/html": [
       "<div>\n",
       "<style scoped>\n",
       "    .dataframe tbody tr th:only-of-type {\n",
       "        vertical-align: middle;\n",
       "    }\n",
       "\n",
       "    .dataframe tbody tr th {\n",
       "        vertical-align: top;\n",
       "    }\n",
       "\n",
       "    .dataframe thead th {\n",
       "        text-align: right;\n",
       "    }\n",
       "</style>\n",
       "<table border=\"1\" class=\"dataframe\">\n",
       "  <thead>\n",
       "    <tr style=\"text-align: right;\">\n",
       "      <th></th>\n",
       "      <th>question_id</th>\n",
       "      <th>question_text</th>\n",
       "      <th>diagnostic_id</th>\n",
       "    </tr>\n",
       "  </thead>\n",
       "  <tbody>\n",
       "    <tr>\n",
       "      <th>0</th>\n",
       "      <td>Q1</td>\n",
       "      <td>Do you have chest pain?</td>\n",
       "      <td>D1</td>\n",
       "    </tr>\n",
       "    <tr>\n",
       "      <th>1</th>\n",
       "      <td>Q2</td>\n",
       "      <td>Any shortness of breath?</td>\n",
       "      <td>D1</td>\n",
       "    </tr>\n",
       "    <tr>\n",
       "      <th>2</th>\n",
       "      <td>Q3</td>\n",
       "      <td>Have you experienced dizziness?</td>\n",
       "      <td>D2</td>\n",
       "    </tr>\n",
       "    <tr>\n",
       "      <th>3</th>\n",
       "      <td>Q4</td>\n",
       "      <td>Do you feel fatigued?</td>\n",
       "      <td>D3</td>\n",
       "    </tr>\n",
       "  </tbody>\n",
       "</table>\n",
       "</div>"
      ],
      "text/plain": [
       "  question_id                    question_text diagnostic_id\n",
       "0          Q1          Do you have chest pain?            D1\n",
       "1          Q2         Any shortness of breath?            D1\n",
       "2          Q3  Have you experienced dizziness?            D2\n",
       "3          Q4            Do you feel fatigued?            D3"
      ]
     },
     "execution_count": 3,
     "metadata": {},
     "output_type": "execute_result"
    }
   ],
   "source": [
    "question_df"
   ]
  },
  {
   "cell_type": "code",
   "execution_count": null,
   "id": "9666e2db",
   "metadata": {},
   "outputs": [],
   "source": [
    "for _, question_row in question_df.iterrows():\n",
    "    question_id = question_row['question_id']\n",
    "    diagnostic_id = question_row['diagnostic_id']  # <-- This field links them\n",
    "    \n",
    "    # Get node indices\n",
    "    question_node = node_mapping[('question', question_id)]\n",
    "    diagnostic_node = node_mapping[('diagnostic', diagnostic_id)]\n",
    "    \n",
    "    # Create bidirectional edges\n",
    "    edge_list.append([diagnostic_node, question_node])  # diagnostic → question\n",
    "    edge_list.append([question_node, diagnostic_node])  # question → diagnostic"
   ]
  },
  {
   "cell_type": "code",
   "execution_count": null,
   "id": "58c80814",
   "metadata": {},
   "outputs": [],
   "source": []
  },
  {
   "cell_type": "code",
   "execution_count": null,
   "id": "61d2fb75",
   "metadata": {},
   "outputs": [],
   "source": []
  },
  {
   "cell_type": "code",
   "execution_count": null,
   "id": "7d01a201",
   "metadata": {},
   "outputs": [],
   "source": []
  },
  {
   "cell_type": "code",
   "execution_count": null,
   "id": "21b58098",
   "metadata": {},
   "outputs": [],
   "source": []
  }
 ],
 "metadata": {
  "kernelspec": {
   "display_name": "gnn (3.12.10)",
   "language": "python",
   "name": "python3"
  },
  "language_info": {
   "codemirror_mode": {
    "name": "ipython",
    "version": 3
   },
   "file_extension": ".py",
   "mimetype": "text/x-python",
   "name": "python",
   "nbconvert_exporter": "python",
   "pygments_lexer": "ipython3",
   "version": "3.12.10"
  }
 },
 "nbformat": 4,
 "nbformat_minor": 5
}
